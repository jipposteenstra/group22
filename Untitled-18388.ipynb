{
 "cells": [
  {
   "cell_type": "markdown",
   "id": "2d36b226",
   "metadata": {},
   "source": [
    "# Project Group - 22\n",
    "\n",
    "Members: Charlotte Koning, Cleo Vos, Koen Awater, Jasmijn van de Kar, Jippo Steenstra\n",
    "\n",
    "Student numbers: 5414164, 5324599, 5416493, 5315611, 5064740"
   ]
  },
  {
   "cell_type": "markdown",
   "id": "e15cf885",
   "metadata": {},
   "source": [
    "# Introduction\n",
    "\n",
    "Every five years, SAIL Amsterdam attracts millions of visitors to the city’s waterfront for one of the world’s largest tall ship events. While the celebration showcases the Netherlands’ maritime heritage, it also poses significant logistical challenges: large, fluctuating and not easily predictable pedestrian flows must be managed without compromising safety or the functioning of surrounding transport systems. Anticipating where and when peaks occur is therefore crucial for maintaining public safety and accessibility.\n",
    "\n",
    "This project investigates to what extent anomalous peaks in pedestrian flow can be predicted up to 15 minutes in advance using historical sensor data and temporal features. We develop and evaluate machine-learning approaches, such as XGBoost and Random Forest, to deliver short-horizon alerts of impending anomalies.\n",
    "\n",
    "The report documents the full pipeline, from data selection and preprocessing to model training and evaluation and assesses which method gives the most accurate and timely anomaly predictions. The findings aim to support a data-driven operational workflow for real-time crowd monitoring which coulf have been used during SAIL 2025, helping authorities optimize staffing, steer pedestrian routing and reduce overcrowding risk. The results will contribute to a more data-driven and resilient approach to crowd management for SAIL's next edition and similar large-scale public events."
   ]
  },
  {
   "cell_type": "markdown",
   "id": "7601b5f8",
   "metadata": {},
   "source": [
    "# Data Used"
   ]
  },
  {
   "cell_type": "markdown",
   "id": "2df25b39",
   "metadata": {},
   "source": [
    "The data used for this project was obtained from the faculty, called 'SAIL2025_LVMA_data_3min_20August-25August2025_flow.csv' and 'sensor-location.xlsx'. \n",
    "\n",
    "All figures and graphs which are used in the report are created by using the provided data.\n",
    "\n",
    "The dataset exhibits a clear daily cycle, with sensors showing similar behaviour and peaks occurring at roughly the same times. Therefore we made predictions combining multiple days for a more accurate prediction. Since the data per sensor was also behaving similarly, we fltered the data to only 3 sensors instead of 36 to give a clearer and better outline. To make sure the sensors represent the SAIL area correctly, the three loactions of the chosen sensors are quick different.  "
   ]
  },
  {
   "cell_type": "markdown",
   "id": "b253585e",
   "metadata": {},
   "source": [
    "# Data Pipeline"
   ]
  },
  {
   "cell_type": "markdown",
   "id": "6ca0cfb9",
   "metadata": {},
   "source": [
    "For the geographical scale we will use eastern harbor of Amsterdam IJhaven, across the IJ river. The temporal scale of the project will be the 20-24 august 2025. For data preperation we will use the Panda library in python.\n",
    "\n",
    "1.⁠ ⁠Sources: How is our data source categorized and what does our data consist of? \n",
    "2.⁠ ⁠Data processing: How is our data converted to data we could use? \n",
    "3.⁠ ⁠Destination: What data is used for the making of the graphs? How can the data be used now? \n",
    "\n",
    "*Datafile 1: Sail crowd flows*  \n",
    "\\\n",
    "This datafile holds the data on the crowdflows per sensor during sail. Each sensor measured the number of people passing every three minutes. \n",
    "\n",
    "*Data formatting*  \n",
    "The data is turned into a pandas dataframe so that the file can be read and further used in python. Encoding is automatically detected with chardet. From this dataset the time features are selected and with these features a subset is made along with the selected sensors. This results in a dataset with three sensors and their time features. \n",
    "\n",
    "\\\n",
    "*Data processing*: \n",
    "From the data the averages per hour and averages per weekday are calculated. The result of this data formatting and processing is a flow-table with timefeatures and sensordata which is used for visualisatoin, peak-detection and forecasting.\n",
    "\n",
    "Datafile 2: Sensorlocation\n",
    "This datafile holds the location of each sensor. These are the sensors which are used in the the other datafile on crowdflows. \n",
    "\n",
    "Data formatting \n",
    "The file is an excel-file and is turned into a pandas dataframe with a chardet-encoding."
   ]
  },
  {
   "cell_type": "markdown",
   "id": "84e50c41",
   "metadata": {},
   "source": [
    "# Research Objective"
   ]
  },
  {
   "cell_type": "markdown",
   "id": "85328bf2",
   "metadata": {},
   "source": [
    "Our main research question is:\n",
    "\n",
    "To what extent can pedestrian flow be predicted and anomalous peaks be detected up to 60 minutes in advance using historical sensor data and temporal features?\n",
    "\n",
    "To answer this research question we will look into dataset [1], the SAIL2025 LVMA pedestrian-flow dataset, which contains 3-minute resolution counts from multiple sensors across the SAIL Amsterdam event area for 20–25 August 2025. We formulate a 15-minute-ahead anomaly prediction task for this. In order to fully answer the research question, we created sub questions, listed below.  \n",
    "\n",
    "Sub questions:\n",
    "1.\tHow do the crowd flows differ per hour of the day and day of the week?\n",
    "2.\tHow can anomalous crowd behaviour be quantitatively defined within the dataset?\n",
    "3.\tHow accurately can an AI trained logistic regression model predict crowd flows?\n",
    "\n",
    "\n",
    "[1] 'SAIL2025_LVMA_data_3min_20August-25August2025_flow.csv'"
   ]
  },
  {
   "cell_type": "markdown",
   "id": "b806b894",
   "metadata": {},
   "source": [
    "2 grafieken crowd flow"
   ]
  },
  {
   "cell_type": "markdown",
   "id": "e353f2b8",
   "metadata": {},
   "source": [
    "The graphs above show the average crowd flow per hour of the day and per day of the week for three selected sensors located in different areas of the SAIL event site. From the first graph, it becomes clear that the dataset exhibits a clear daily pattern, with flow levels rising sharply during late morning and afternoon hours and decreasing again in the evening. Although the absolute flow differs per location, the sensors show similar behaviour with peaks occurring at approximately the same times, indicating consistent crowd dynamics across the event area.\n",
    "\n",
    "The second graph illustrates the average crowd flow per weekday, showing that weekends, particularly Saturday, experience the highest activity across all sensors. This confirms that visitor intensity increases toward the weekend. \n",
    "\n",
    "Even though the data period is limited to five days (the lenght of the SAIL event), these patterns suggest that both time of day and day of week are strong predictors of crowd intensity. Hence, temporal features such as hour and weekday are expected to contribute significantly to the model’s ability to forecast anomalous peaks in pedestrian flow."
   ]
  },
  {
   "cell_type": "markdown",
   "id": "dedac9f8",
   "metadata": {},
   "source": [
    "visitor flow count"
   ]
  },
  {
   "cell_type": "markdown",
   "id": "42124703",
   "metadata": {},
   "source": [
    "A rolling MAD (Median Absolute Deviation) is then used to estimate the local variability (σ), giving a robust measure of short-term noise. Points are considered significant only if they exceed ±3 × σ from the baseline:\n",
    "\t•\tresid > +3σ → candidate peak\n",
    "\t•\tresid < −3σ → candidate trough\n",
    "\n",
    "Using scipy.signal.find_peaks, the algorithm marks only those points that are local maxima or minima satisfying these thresholds. Finally, any extrema closer than 6 samples apart are filtered so that only the strongest event in each cluster remains.\n",
    "\n",
    "In summary, a peak is a point that rises more than three times the local noise above its short-term baseline and stands out as a local maximum; a trough is the mirror case below the baseline."
   ]
  },
  {
   "cell_type": "markdown",
   "id": "1a75d3f1",
   "metadata": {},
   "source": [
    "grafieken met peaks en dalen"
   ]
  },
  {
   "cell_type": "markdown",
   "id": "2cd8cef0",
   "metadata": {},
   "source": [
    "The figure above presents the detected pedestrian flow peaks for two sensors during the five event days. Each subplot shows the measured flow at 3 minute resolution represented by a blue line. While the red dots indicate peak moments. \n",
    "\n",
    "The plots reveal several notable patterns. All sensors display a daily rhythm, with low activity during the morning hours and increasing pedestrian volumes throughout the afternoon and evening. The peaks occur around similar times on multiple days. Indicating recurring crowd flows, which may be linked to the scheduled events. Furthermore, senor CMSA-GAKH-01_0 consistently records higher and more freqeunt peals than CMSA-GAWW-12_295. This suggests that it is located at a more prominent location, experiencing heavier pedestrian volumes.\n",
    "\n",
    "Despite daily variations, the algorithm reliably identifies both major and minor peaks. Showing that the method works well across different sensors and days Overall, this visualisation validates the anomaly labeling approach, confirming that the dataset captures meaningful pedestrian flow peaks suitable for predictive modeling. "
   ]
  },
  {
   "cell_type": "markdown",
   "id": "235e67e9",
   "metadata": {},
   "source": [
    "historical flow and forecast"
   ]
  },
  {
   "cell_type": "markdown",
   "id": "0e01f6cb",
   "metadata": {},
   "source": [
    "This graph shows both historical pedestrian flow and the the short term forecast for sensor CMSA-GAWW-11_120. The blue line represents the observed flow up to 20:00, the orange dashed line indicated the models predicted flow for the next 60 minutes. The forecast confidence interval is shown by the shaded blue area, indicating the expected range of future values. "
   ]
  },
  {
   "cell_type": "markdown",
   "id": "8dc88484",
   "metadata": {},
   "source": [
    "met actual"
   ]
  },
  {
   "cell_type": "markdown",
   "id": "df03236a",
   "metadata": {},
   "source": [
    "In this graph the actual future measurements, indicated by the orange line, are revealed. The models forecast can be compared with the reality. In this case, the forecast does not follow the actual future measurements. The model predicted relatively stable flow values, while the true observations fluctuate. This includes several sudden peaks that the model fails to anticipate."
   ]
  },
  {
   "cell_type": "markdown",
   "id": "a6c6ac17",
   "metadata": {},
   "source": [
    "# Conclusion"
   ]
  },
  {
   "cell_type": "markdown",
   "id": "6e052bfe",
   "metadata": {},
   "source": [
    "# Discussion"
   ]
  },
  {
   "cell_type": "markdown",
   "id": "0bd438e6",
   "metadata": {},
   "source": []
  }
 ],
 "metadata": {
  "kernelspec": {
   "display_name": "ME44206quantative",
   "language": "python",
   "name": "python3"
  },
  "language_info": {
   "codemirror_mode": {
    "name": "ipython",
    "version": 3
   },
   "file_extension": ".py",
   "mimetype": "text/x-python",
   "name": "python",
   "nbconvert_exporter": "python",
   "pygments_lexer": "ipython3",
   "version": "3.13.7"
  }
 },
 "nbformat": 4,
 "nbformat_minor": 5
}
