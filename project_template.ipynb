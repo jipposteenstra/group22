{
 "cells": [
  {
   "cell_type": "markdown",
   "metadata": {},
   "source": [
    "# Project Group - 22\n",
    "\n",
    "Members: Charlotte Koning, Cleo Vos, Koen Awater, Jasmijn van de Kar, Jippo Steenstra\n",
    "\n",
    "Student numbers: 5414164, 5324599, 5416493, 5315611, 5064740"
   ]
  },
  {
   "cell_type": "markdown",
   "metadata": {},
   "source": [
    "# Research Objective\n",
    "\n",
    "*Requires data modeling and quantitative research in Transport, Infrastructure & Logistics*"
   ]
  },
  {
   "cell_type": "markdown",
   "metadata": {},
   "source": [
    "objective: \n",
    "To what extent can crowd prediction help to identify and mitigate safety risks, such as overcrowded areas, at an early stage?\n",
    "\n",
    "questions:\n",
    "- Which factors contribute most strongly to safety risks during large-scale public events?  \n",
    "- How accurately can crowd density be forecasted using historical and real-time data?  \n",
    "- Which prediction methods provide the best performance for short-term crowd prediction?  \n",
    "\n"
   ]
  },
  {
   "cell_type": "markdown",
   "metadata": {},
   "source": [
    "# Contribution Statement\n",
    "\n",
    "Be specific. Some of the tasks can be coding (expect everyone to do this), background research, conceptualisation, visualisation, data analysis, data modelling"
   ]
  },
  {
   "cell_type": "markdown",
   "metadata": {},
   "source": [
    "**Author 1**:\n",
    "\n",
    "**Author 2**:\n",
    "\n",
    "**Author 3**:"
   ]
  },
  {
   "cell_type": "markdown",
   "metadata": {},
   "source": [
    "# Data Used"
   ]
  },
  {
   "cell_type": "markdown",
   "metadata": {},
   "source": [
    "We will use the dataset(s) about the SAIL event, provided by the professors."
   ]
  },
  {
   "cell_type": "markdown",
   "metadata": {},
   "source": [
    "# Data Pipeline"
   ]
  },
  {
   "cell_type": "markdown",
   "metadata": {},
   "source": [
    "For the geographical scale we will use eastern harbor of Amsterdam IJhaven, across the IJ river. The temporal scale of the project will be the 20-24 august 2025. For data preperation we will use the Panda library in python."
   ]
  },
  {
   "cell_type": "code",
   "execution_count": 26,
   "metadata": {},
   "outputs": [],
   "source": [
    "import pandas as pd\n",
    "import chardet\n",
    "import os"
   ]
  },
  {
   "cell_type": "code",
   "execution_count": 30,
   "metadata": {},
   "outputs": [],
   "source": [
    "flow_file = 'SAIL2025_LVMA_data_3min_20August-25August2025_flow.csv'\n",
    "location_file = 'sensor-location.xlsx'\n",
    "\n",
    "with open(flow_file, 'rb') as f:\n",
    "    result = chardet.detect(f.read())\n",
    "\n",
    "enc = result['encoding']\n",
    "\n",
    "df_flow = pd.read_csv(flow_file, encoding=enc)\n",
    "\n",
    "\n",
    "with open(location_file, 'rb') as f:\n",
    "    result = chardet.detect(f.read())\n",
    "\n",
    "\n",
    "df_location = pd.read_excel(location_file)"
   ]
  },
  {
   "cell_type": "code",
   "execution_count": 31,
   "metadata": {},
   "outputs": [
    {
     "data": {
      "text/html": [
       "<div>\n",
       "<style scoped>\n",
       "    .dataframe tbody tr th:only-of-type {\n",
       "        vertical-align: middle;\n",
       "    }\n",
       "\n",
       "    .dataframe tbody tr th {\n",
       "        vertical-align: top;\n",
       "    }\n",
       "\n",
       "    .dataframe thead th {\n",
       "        text-align: right;\n",
       "    }\n",
       "</style>\n",
       "<table border=\"1\" class=\"dataframe\">\n",
       "  <thead>\n",
       "    <tr style=\"text-align: right;\">\n",
       "      <th></th>\n",
       "      <th>timestamp</th>\n",
       "      <th>CMSA-GAKH-01_0</th>\n",
       "      <th>CMSA-GAKH-01_180</th>\n",
       "      <th>CMSA-GAWW-11_120</th>\n",
       "      <th>CMSA-GAWW-11_300</th>\n",
       "      <th>CMSA-GAWW-12_115</th>\n",
       "      <th>CMSA-GAWW-12_295</th>\n",
       "      <th>CMSA-GAWW-13_120</th>\n",
       "      <th>CMSA-GAWW-13_300</th>\n",
       "      <th>CMSA-GAWW-14_40</th>\n",
       "      <th>...</th>\n",
       "      <th>GVCV-13_10</th>\n",
       "      <th>GVCV-13_190</th>\n",
       "      <th>GVCV-14_90</th>\n",
       "      <th>GVCV-14_270</th>\n",
       "      <th>hour</th>\n",
       "      <th>minute</th>\n",
       "      <th>day</th>\n",
       "      <th>month</th>\n",
       "      <th>weekday</th>\n",
       "      <th>is_weekend</th>\n",
       "    </tr>\n",
       "  </thead>\n",
       "  <tbody>\n",
       "    <tr>\n",
       "      <th>0</th>\n",
       "      <td>2025-08-20 00:00:00+02:00</td>\n",
       "      <td>15</td>\n",
       "      <td>4</td>\n",
       "      <td>29</td>\n",
       "      <td>33</td>\n",
       "      <td>44</td>\n",
       "      <td>28</td>\n",
       "      <td>42</td>\n",
       "      <td>37</td>\n",
       "      <td>11</td>\n",
       "      <td>...</td>\n",
       "      <td>41</td>\n",
       "      <td>40</td>\n",
       "      <td>0</td>\n",
       "      <td>0</td>\n",
       "      <td>0</td>\n",
       "      <td>0</td>\n",
       "      <td>20</td>\n",
       "      <td>8</td>\n",
       "      <td>2</td>\n",
       "      <td>0</td>\n",
       "    </tr>\n",
       "    <tr>\n",
       "      <th>1</th>\n",
       "      <td>2025-08-20 00:03:00+02:00</td>\n",
       "      <td>1</td>\n",
       "      <td>3</td>\n",
       "      <td>21</td>\n",
       "      <td>29</td>\n",
       "      <td>34</td>\n",
       "      <td>39</td>\n",
       "      <td>9</td>\n",
       "      <td>14</td>\n",
       "      <td>6</td>\n",
       "      <td>...</td>\n",
       "      <td>0</td>\n",
       "      <td>0</td>\n",
       "      <td>0</td>\n",
       "      <td>0</td>\n",
       "      <td>0</td>\n",
       "      <td>3</td>\n",
       "      <td>20</td>\n",
       "      <td>8</td>\n",
       "      <td>2</td>\n",
       "      <td>0</td>\n",
       "    </tr>\n",
       "    <tr>\n",
       "      <th>2</th>\n",
       "      <td>2025-08-20 00:06:00+02:00</td>\n",
       "      <td>5</td>\n",
       "      <td>4</td>\n",
       "      <td>35</td>\n",
       "      <td>22</td>\n",
       "      <td>29</td>\n",
       "      <td>34</td>\n",
       "      <td>33</td>\n",
       "      <td>42</td>\n",
       "      <td>14</td>\n",
       "      <td>...</td>\n",
       "      <td>0</td>\n",
       "      <td>0</td>\n",
       "      <td>0</td>\n",
       "      <td>0</td>\n",
       "      <td>0</td>\n",
       "      <td>6</td>\n",
       "      <td>20</td>\n",
       "      <td>8</td>\n",
       "      <td>2</td>\n",
       "      <td>0</td>\n",
       "    </tr>\n",
       "  </tbody>\n",
       "</table>\n",
       "<p>3 rows × 81 columns</p>\n",
       "</div>"
      ],
      "text/plain": [
       "                   timestamp  CMSA-GAKH-01_0  CMSA-GAKH-01_180  \\\n",
       "0  2025-08-20 00:00:00+02:00              15                 4   \n",
       "1  2025-08-20 00:03:00+02:00               1                 3   \n",
       "2  2025-08-20 00:06:00+02:00               5                 4   \n",
       "\n",
       "   CMSA-GAWW-11_120  CMSA-GAWW-11_300  CMSA-GAWW-12_115  CMSA-GAWW-12_295  \\\n",
       "0                29                33                44                28   \n",
       "1                21                29                34                39   \n",
       "2                35                22                29                34   \n",
       "\n",
       "   CMSA-GAWW-13_120  CMSA-GAWW-13_300  CMSA-GAWW-14_40  ...  GVCV-13_10  \\\n",
       "0                42                37               11  ...          41   \n",
       "1                 9                14                6  ...           0   \n",
       "2                33                42               14  ...           0   \n",
       "\n",
       "   GVCV-13_190  GVCV-14_90  GVCV-14_270  hour  minute  day  month  weekday  \\\n",
       "0           40           0            0     0       0   20      8        2   \n",
       "1            0           0            0     0       3   20      8        2   \n",
       "2            0           0            0     0       6   20      8        2   \n",
       "\n",
       "   is_weekend  \n",
       "0           0  \n",
       "1           0  \n",
       "2           0  \n",
       "\n",
       "[3 rows x 81 columns]"
      ]
     },
     "execution_count": 31,
     "metadata": {},
     "output_type": "execute_result"
    }
   ],
   "source": [
    "df_flow.head(3)\n"
   ]
  },
  {
   "cell_type": "code",
   "execution_count": 40,
   "metadata": {},
   "outputs": [
    {
     "data": {
      "text/plain": [
       "0       0\n",
       "1       0\n",
       "2       0\n",
       "3       0\n",
       "4       0\n",
       "       ..\n",
       "2395    0\n",
       "2396    0\n",
       "2397    0\n",
       "2398    0\n",
       "2399    0\n",
       "Name: GASA-01-A1_315, Length: 2400, dtype: int64"
      ]
     },
     "execution_count": 40,
     "metadata": {},
     "output_type": "execute_result"
    }
   ],
   "source": [
    "#\n",
    "#\n",
    "#Oosterdoksbrug\n",
    "\n",
    "df_flow.loc[:, 'GASA-01-A1_315']\n",
    "\n",
    "# print(df_flow.columns.tolist())\n"
   ]
  },
  {
   "cell_type": "code",
   "execution_count": null,
   "metadata": {},
   "outputs": [],
   "source": []
  }
 ],
 "metadata": {
  "kernelspec": {
   "display_name": "base",
   "language": "python",
   "name": "python3"
  },
  "language_info": {
   "codemirror_mode": {
    "name": "ipython",
    "version": 3
   },
   "file_extension": ".py",
   "mimetype": "text/x-python",
   "name": "python",
   "nbconvert_exporter": "python",
   "pygments_lexer": "ipython3",
   "version": "3.12.3"
  },
  "orig_nbformat": 4
 },
 "nbformat": 4,
 "nbformat_minor": 2
}
